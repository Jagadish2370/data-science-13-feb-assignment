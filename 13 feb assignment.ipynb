{
 "cells": [
  {
   "cell_type": "markdown",
   "metadata": {},
   "source": [
    "Q1. Explain why we have to use the Exception class while creating a Custom Exception.\n",
    "\n",
    "Ans:\n",
    "    When we going to write code and specifying custom exception many times we asould not know if any other exception handling is required or not.\n",
    "    To make sure all exceptions should get handled we can use base class of exception."
   ]
  },
  {
   "cell_type": "markdown",
   "metadata": {},
   "source": [
    "Q2. Write a python program to print Python Exception Hierarchy."
   ]
  },
  {
   "cell_type": "code",
   "execution_count": 1,
   "metadata": {},
   "outputs": [
    {
     "name": "stdout",
     "output_type": "stream",
     "text": [
      "BaseException\n",
      "    object\n"
     ]
    }
   ],
   "source": [
    "def print_exception_hierarchy(exception_class, indent=0):\n",
    "    # Print the class name with indentation\n",
    "    print(' ' * indent + exception_class.__name__)\n",
    "\n",
    "    # Recursively print the base classes\n",
    "    for base_class in exception_class.__bases__:\n",
    "        print_exception_hierarchy(base_class, indent + 4)\n",
    "\n",
    "# Start with the BaseException class\n",
    "print_exception_hierarchy(BaseException)\n"
   ]
  },
  {
   "cell_type": "markdown",
   "metadata": {
    "vscode": {
     "languageId": "bat"
    }
   },
   "source": [
    "Q3. What errors are defined in the ArithmeticError class? Explain any two with an example.\n",
    "\n",
    "Ans:\n",
    "    In ArithmeticError class errors defined that can occur during arithmatic operations.\n",
    "        eg 1..\n",
    "            numerator = 10\n",
    "            denominator = 0\n",
    "\n",
    "            try:\n",
    "                result = numerator / denominator\n",
    "            except ZeroDivisionError as e:\n",
    "                print(f\"Error: {e}\")\n",
    "\n",
    "        eg 2..\n",
    "            import sys\n",
    "            max_int = sys.maxsize  \n",
    "            try:\n",
    "                result = max_int + 1\n",
    "            except OverflowError as e:\n",
    "                print(f\"Error: {e}\")\n"
   ]
  },
  {
   "cell_type": "markdown",
   "metadata": {},
   "source": [
    "Q4. Why LookupError class is used? Explain with an example KeyError and IndexError.\n",
    "\n",
    "Ans:\n",
    "    The LookupError class in Python is a base class for exceptions related to looking up values in sequences or mappings (collections like lists, dictionaries, etc.). It is a subclass of the Exception class and serves as a parent class for exceptions like KeyError and IndexError.\n",
    "    eg..\n",
    "\n",
    "    "
   ]
  },
  {
   "cell_type": "code",
   "execution_count": 1,
   "metadata": {},
   "outputs": [
    {
     "name": "stdout",
     "output_type": "stream",
     "text": [
      "Error: 'grape'\n"
     ]
    }
   ],
   "source": [
    "my_dict = {\"apple\": 3, \"banana\": 2, \"cherry\": 5}\n",
    "try:\n",
    "    value = my_dict[\"grape\"]  # Attempting to access a non-existent key\n",
    "except KeyError as e:\n",
    "    print(f\"Error: {e}\")\n"
   ]
  },
  {
   "cell_type": "code",
   "execution_count": 2,
   "metadata": {},
   "outputs": [
    {
     "name": "stdout",
     "output_type": "stream",
     "text": [
      "Error: list index out of range\n"
     ]
    }
   ],
   "source": [
    "my_list = [1, 2, 3, 4, 5]\n",
    "\n",
    "try:\n",
    "    value = my_list[10]  # Attempting to access an index beyond the list's length\n",
    "except IndexError as e:\n",
    "    print(f\"Error: {e}\")\n"
   ]
  },
  {
   "cell_type": "markdown",
   "metadata": {},
   "source": [
    "Q5. Explain ImportError. What is ModuleNotFoundError?\n",
    "Ans:\n",
    "    ImportError:\n",
    "        ImportError is a Python exception that is raised when there's an issue while importing a module. It is a subclass of the ImportError class. This exception occurs when Python encounters problems while trying to load or import a module. \n",
    "    ModulenNotFoundError:\n",
    "    It is a subclass of ImportError. It is raised when Python cannot locate the module you are trying to import."
   ]
  },
  {
   "cell_type": "markdown",
   "metadata": {},
   "source": [
    "Q6. List down some best practices for exception handling in python.\n",
    "\n",
    "Ans:\n",
    "    Specificity: Catch exceptions as specifically as possible. Avoid using a broad except clause that catches all exceptions.\n",
    "\n",
    "    Use try-except Blocks Sparingly: Don't overuse try-except blocks for control flow. They should primarily be used for handling exceptional situations, not for regular program flow.\n",
    "\n",
    "    Log Exceptions: Always log exceptions, along with relevant information, to aid in debugging and troubleshooting. Python's built-in logging module can be useful for this purpose.\n",
    "\n",
    "    Avoid Bare except: Avoid using a bare except clause as it catches all exceptions, including system-exiting exceptions like SystemExit and \n",
    "    \n",
    "    KeyboardInterrupt. Catch only the exceptions you expect.\n",
    "    \n",
    "    Handle Errors Locally: When possible, handle errors locally where they occur, rather than propagating them up the call stack unnecessarily.\n",
    "    \n",
    "    Use else and finally Blocks: Utilize the else block to put code that should run if no exceptions were raised within the try block. Use the finally block for cleanup code that should always execute, regardless of whether an exception was raised."
   ]
  }
 ],
 "metadata": {
  "kernelspec": {
   "display_name": "Python 3",
   "language": "python",
   "name": "python3"
  },
  "language_info": {
   "codemirror_mode": {
    "name": "ipython",
    "version": 3
   },
   "file_extension": ".py",
   "mimetype": "text/x-python",
   "name": "python",
   "nbconvert_exporter": "python",
   "pygments_lexer": "ipython3",
   "version": "3.10.4"
  }
 },
 "nbformat": 4,
 "nbformat_minor": 2
}
